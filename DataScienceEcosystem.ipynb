{
 "cells": [
  {
   "cell_type": "markdown",
   "id": "f2890c59-d0d1-4cc5-bb5e-4a9467b7a1f0",
   "metadata": {},
   "source": [
    "# Data Science Tools and Ecosystem"
   ]
  },
  {
   "cell_type": "markdown",
   "id": "6055b173-dcbf-455e-b837-8b9dd33cd086",
   "metadata": {},
   "source": [
    "In this notebook, Data Science Tools and Ecosystem are summarized."
   ]
  },
  {
   "cell_type": "markdown",
   "id": "7b31393a-1f30-4bd2-a2b6-6853ff33769d",
   "metadata": {},
   "source": [
    "Some of the popular languages that Data Scientists use are:\n",
    "1. python\n",
    "2. r\n",
    "3. sql\n",
    "4. java\n",
    "5. c"
   ]
  },
  {
   "cell_type": "markdown",
   "id": "2baafb7c-719f-42c3-aaf5-d0f307509c21",
   "metadata": {},
   "source": [
    "Some of the commonly used libraries used by Data Scientists include:\n",
    "1. pandas\n",
    "2. numpy\n",
    "3. scipy"
   ]
  },
  {
   "cell_type": "markdown",
   "id": "c85b869a-a496-47c7-8146-0a7ddb1e7f95",
   "metadata": {},
   "source": [
    "|Data Science Tools|\n",
    "|---|\n",
    "|jupyter|\n",
    "|rstudio|\n",
    "|mysql woorkbench|"
   ]
  },
  {
   "cell_type": "markdown",
   "id": "c8c53a5a-d690-46d8-bb57-176420d85aa4",
   "metadata": {},
   "source": [
    "### Below are a few examples of evaluating arithmetic expressions in Python"
   ]
  },
  {
   "cell_type": "code",
   "execution_count": 2,
   "id": "1230b832-16ca-4f2c-b2cc-252a90a2abce",
   "metadata": {},
   "outputs": [
    {
     "data": {
      "text/plain": [
       "17"
      ]
     },
     "execution_count": 2,
     "metadata": {},
     "output_type": "execute_result"
    }
   ],
   "source": [
    "#This a simple arithmetic expression to mutiply then add integers\n",
    "(3*4)+5"
   ]
  },
  {
   "cell_type": "code",
   "execution_count": 3,
   "id": "f1b41e78-de27-429b-af56-2c01fbc7ab73",
   "metadata": {},
   "outputs": [
    {
     "data": {
      "text/plain": [
       "3.3333333333333335"
      ]
     },
     "execution_count": 3,
     "metadata": {},
     "output_type": "execute_result"
    }
   ],
   "source": [
    "#This will convert 200 minutes to hours by diving by 60\n",
    "200/60"
   ]
  },
  {
   "cell_type": "markdown",
   "id": "b1a20f95-fda6-43b5-b766-32a433cc6894",
   "metadata": {},
   "source": [
    "**Objectives:**\n",
    "* List popular languages for Data Science\n",
    "* List Data Science Tools\n",
    "* List popular languages that Data Scientists"
   ]
  },
  {
   "cell_type": "markdown",
   "id": "484ed804-cd6e-4a8f-97ff-621761830562",
   "metadata": {},
   "source": [
    "## Author \n",
    "Jiajun Xing"
   ]
  },
  {
   "cell_type": "code",
   "execution_count": null,
   "id": "65eea34b-42ca-460a-8624-73b99e82ec42",
   "metadata": {},
   "outputs": [],
   "source": []
  }
 ],
 "metadata": {
  "kernelspec": {
   "display_name": "Python 3 (ipykernel)",
   "language": "python",
   "name": "python3"
  },
  "language_info": {
   "codemirror_mode": {
    "name": "ipython",
    "version": 3
   },
   "file_extension": ".py",
   "mimetype": "text/x-python",
   "name": "python",
   "nbconvert_exporter": "python",
   "pygments_lexer": "ipython3",
   "version": "3.11.7"
  }
 },
 "nbformat": 4,
 "nbformat_minor": 5
}
